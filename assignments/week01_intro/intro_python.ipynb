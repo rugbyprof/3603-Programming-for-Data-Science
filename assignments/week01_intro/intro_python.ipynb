{
 "cells": [
  {
   "cell_type": "code",
   "execution_count": 1,
   "id": "d13e4c63",
   "metadata": {},
   "outputs": [
    {
     "name": "stdout",
     "output_type": "stream",
     "text": [
      "Addition: 7\n",
      "Exponent: 25\n",
      "List: [1, 2, 3, 4]\n",
      "Student Name: Ada\n"
     ]
    }
   ],
   "source": [
    "# Week 01: Intro to Python\n",
    "\n",
    "# 🧮 Arithmetic\n",
    "a = 5\n",
    "b = 2\n",
    "print(\"Addition:\", a + b)\n",
    "print(\"Exponent:\", a ** b)\n",
    "\n",
    "# 📋 Lists\n",
    "my_list = [1, 2, 3]\n",
    "my_list.append(4)\n",
    "print(\"List:\", my_list)\n",
    "\n",
    "# 📖 Dictionaries\n",
    "student = {\"name\": \"Ada\", \"grade\": 95}\n",
    "print(\"Student Name:\", student[\"name\"])"
   ]
  }
 ],
 "metadata": {
  "kernelspec": {
   "display_name": "Python 3 (ipykernel)",
   "language": "python",
   "name": "python3"
  }
 },
 "nbformat": 4,
 "nbformat_minor": 5
}
