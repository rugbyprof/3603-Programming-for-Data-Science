{
  "cells": [
    {
      "cell_type": "markdown",
      "metadata": {
        "id": "view-in-github",
        "colab_type": "text"
      },
      "source": [
        "<a href=\"https://colab.research.google.com/github/rugbyprof/3603-Programming-for-Data-Science/blob/main/Completed/02-Working_with_Data/02-Tuples.ipynb\" target=\"_parent\"><img src=\"https://colab.research.google.com/assets/colab-badge.svg\" alt=\"Open In Colab\"/></a>"
      ]
    },
    {
      "cell_type": "markdown",
      "id": "4fc4e076",
      "metadata": {
        "id": "4fc4e076"
      },
      "source": [
        "# 📘 02 - Python Tuples\n",
        "\n",
        "Learn what tuples are and how to use them."
      ]
    },
    {
      "cell_type": "markdown",
      "id": "0ec947dd",
      "metadata": {
        "id": "0ec947dd"
      },
      "source": [
        "## ✅ Learning Goals\n",
        "- Create and access tuples\n",
        "- Understand immutability\n",
        "- Use tuple unpacking"
      ]
    },
    {
      "cell_type": "code",
      "execution_count": 1,
      "id": "467cf803",
      "metadata": {
        "id": "467cf803",
        "outputId": "183581a6-6cd9-4e14-aa0e-f803182e113d",
        "colab": {
          "base_uri": "https://localhost:8080/"
        }
      },
      "outputs": [
        {
          "output_type": "stream",
          "name": "stdout",
          "text": [
            "(5, 10)\n"
          ]
        }
      ],
      "source": [
        "# 🔧 Create a Tuple\n",
        "coords = (5, 10)\n",
        "print(coords)"
      ]
    },
    {
      "cell_type": "code",
      "execution_count": 2,
      "id": "13b643c4",
      "metadata": {
        "id": "13b643c4",
        "outputId": "8922e796-0708-4522-83b7-2f3960466831",
        "colab": {
          "base_uri": "https://localhost:8080/"
        }
      },
      "outputs": [
        {
          "output_type": "stream",
          "name": "stdout",
          "text": [
            "X: 5\n",
            "Y: 10\n"
          ]
        }
      ],
      "source": [
        "# 🔍 Indexing\n",
        "print('X:', coords[0])\n",
        "print('Y:', coords[1])"
      ]
    },
    {
      "cell_type": "code",
      "execution_count": null,
      "id": "2c780aea",
      "metadata": {
        "id": "2c780aea"
      },
      "outputs": [],
      "source": [
        "# 🔁 Tuple Unpacking\n",
        "x, y = coords\n",
        "print('x + y =', x + y)"
      ]
    },
    {
      "cell_type": "markdown",
      "id": "3a71407c",
      "metadata": {
        "id": "3a71407c"
      },
      "source": [
        "## 🚫 Tuples are immutable\n",
        "Try uncommenting the line below to see what happens:\n",
        "```python\n",
        "# coords[0] = 100\n",
        "```"
      ]
    },
    {
      "cell_type": "markdown",
      "id": "853762bc",
      "metadata": {
        "id": "853762bc"
      },
      "source": [
        "## ✏️ Your Turn\n",
        "Create a tuple to store your birthday as `(month, day, year)`."
      ]
    },
    {
      "cell_type": "code",
      "source": [
        "date = (5,5,5)"
      ],
      "metadata": {
        "id": "PTuOP9DmzoCd"
      },
      "id": "PTuOP9DmzoCd",
      "execution_count": 3,
      "outputs": []
    }
  ],
  "metadata": {
    "colab": {
      "provenance": [],
      "include_colab_link": true
    },
    "language_info": {
      "name": "python"
    },
    "kernelspec": {
      "name": "python3",
      "display_name": "Python 3"
    }
  },
  "nbformat": 4,
  "nbformat_minor": 5
}