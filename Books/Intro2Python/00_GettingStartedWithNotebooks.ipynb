{
 "cells": [
  {
   "cell_type": "markdown",
   "id": "d7086f8d",
   "metadata": {},
   "source": [
    "# 👋 Week 1: Getting Started with Notebooks\n",
    "\n",
    "**Welcome to Programming for Data Science!**\n",
    "\n",
    "Today you'll learn:\n",
    "- What a Jupyter notebook is\n",
    "- How to run code in **Google Colab**\n",
    "- How to save your own copy\n",
    "- (Optional) How to try **Binder**\n",
    "- How to submit your work via **D2L**\n",
    "\n",
    "📅 Date: *September 02, 2025*\n"
   ]
  },
  {
   "cell_type": "markdown",
   "id": "b0870b1b",
   "metadata": {},
   "source": [
    "---\n",
    "\n",
    "## 🧠 What is a Jupyter Notebook?\n",
    "\n",
    "A notebook is an interactive document that contains:\n",
    "\n",
    "- **Code cells** (you can run them!)\n",
    "- **Markdown cells** (for notes, explanations, checklists, etc.)\n",
    "\n",
    "Try clicking on this cell, then pressing the pencil ✏️ to edit.\n",
    "\n"
   ]
  },
  {
   "cell_type": "code",
   "execution_count": null,
   "id": "31cd80d3",
   "metadata": {},
   "outputs": [
    {
     "ename": "",
     "evalue": "",
     "output_type": "error",
     "traceback": [
      "\u001b[1;31mFailed to connect to the remote Jupyter Server 'http://127.0.0.1:8888/'. Verify the server is running and reachable. (Failed to connect to the remote Jupyter Server 'http://127.0.0.1:8888/'. Verify the server is running and reachable. (request to http://127.0.0.1:8888/api/kernels?1756787167034 failed, reason: connect ECONNREFUSED 127.0.0.1:8888).)."
     ]
    }
   ],
   "source": [
    "# This is a code cell — click here and press Shift+Enter to run it\n",
    "print(\"Hello, data scientist!\")"
   ]
  },
  {
   "cell_type": "markdown",
   "id": "aea94c60",
   "metadata": {},
   "source": [
    "---\n",
    "\n",
    "## ▶️ Step 1: Open in Google Colab\n",
    "\n",
    "Click the badge below to open this notebook in **Google Colab** (a cloud-based notebook runner):\n",
    "\n",
    "[![Open In Colab](https://colab.research.google.com/assets/colab-badge.svg)](https://github.com/rugbyprof/3603-Programming-for-Data-Science/blob/main/Books/Intro2Python/00_GettingStartedWithNotebooks.ipynb)\n",
    "\n",
    "When it opens, go to **File > Save a copy in Drive** to make your own version.\n"
   ]
  },
  {
   "cell_type": "markdown",
   "id": "d8ecbb5a",
   "metadata": {},
   "source": [
    "---\n",
    "\n",
    "## ✏️ Step 2: Try Editing\n",
    "\n",
    "Below is a code cell. Change it to say something else, then run it!\n"
   ]
  },
  {
   "cell_type": "code",
   "execution_count": null,
   "id": "8776ffef",
   "metadata": {},
   "outputs": [],
   "source": [
    "name = \"Your Name Here\"\n",
    "print(\"Welcome to Python, \" + name + \"!\")"
   ]
  },
  {
   "cell_type": "markdown",
   "id": "42b63cc0",
   "metadata": {},
   "source": [
    "---\n",
    "\n",
    "## 💾 Step 3: Save Your Work\n",
    "\n",
    "**If you're in Colab**:\n",
    "- Go to `File > Save a Copy in Drive`\n",
    "- It will save to your Google Drive\n",
    "- You can share it using the \"Share\" button (top right)\n",
    "\n",
    "**If you're using Binder**:\n",
    "- Go to `File > Download > .ipynb` and save it to your computer\n",
    "\n"
   ]
  },
  {
   "cell_type": "markdown",
   "id": "57ef7ea0",
   "metadata": {},
   "source": [
    "---\n",
    "\n",
    "## 🧪 Optional: Try Binder\n",
    "\n",
    "Want to try another way to run notebooks?\n",
    "\n",
    "Click below to launch this notebook in **Binder** (this takes a bit longer):\n",
    "\n",
    "[![Binder](https://mybinder.org/badge_logo.svg)](https://mybinder.org/v2/gh/rugbyprof/3603-Programming-for-Data-Science/HEAD?filepath=Books%2FIntro2Python%2F00_GettingStartedWithNotebooks.ipynb)\n"
   ]
  },
  {
   "cell_type": "markdown",
   "id": "e0b57047",
   "metadata": {},
   "source": [
    "---\n",
    "\n",
    "## 📤 Step 4: Turn It In\n",
    "\n",
    "When you're finished:\n",
    "\n",
    "✅ **If you used Colab**:\n",
    "- Click **\"Share\"**\n",
    "- Set link access to: *Anyone with the link can view*\n",
    "- Submit the **link** on D2L\n",
    "\n",
    "✅ **If you downloaded the `.ipynb` file**:\n",
    "- Upload the file directly to D2L\n",
    "\n"
   ]
  },
  {
   "cell_type": "markdown",
   "id": "ec006dfa",
   "metadata": {},
   "source": [
    "---\n",
    "\n",
    "## ✅ Final Checklist\n",
    "\n",
    "Before submitting, make sure you:\n",
    "\n",
    "- [ ] Opened the notebook in Colab or Binder\n",
    "- [ ] Ran at least one code cell\n",
    "- [ ] Edited your name in the welcome message\n",
    "- [ ] Saved a copy (Drive or download)\n",
    "- [ ] Submitted your work via D2L\n",
    "\n",
    "Great work! You're on your way to learning Python and data science 🚀\n"
   ]
  }
 ],
 "metadata": {
  "kernelspec": {
   "display_name": "Python 3 (ipykernel)",
   "language": "python",
   "name": "python3"
  }
 },
 "nbformat": 4,
 "nbformat_minor": 5
}
