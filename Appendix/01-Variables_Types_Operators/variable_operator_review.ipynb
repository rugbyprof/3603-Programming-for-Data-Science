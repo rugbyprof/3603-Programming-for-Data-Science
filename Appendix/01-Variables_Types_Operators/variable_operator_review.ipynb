{
 "cells": [
  {
   "cell_type": "markdown",
   "id": "7dc579f1",
   "metadata": {},
   "source": [
    "# 📘 Variable, Data Type, and Operator Review\n",
    "\n",
    "This notebook helps you practice basic Python syntax."
   ]
  },
  {
   "cell_type": "code",
   "execution_count": null,
   "id": "f1b7975c",
   "metadata": {},
   "outputs": [],
   "source": [
    "# 🔧 Define Variables\n",
    "x = 10\n",
    "y = 3.5\n",
    "z = 'hello'\n",
    "b = True\n",
    "print(x, y, z, b)"
   ]
  },
  {
   "cell_type": "markdown",
   "id": "fd9c3a23",
   "metadata": {},
   "source": [
    "### ✅ What is the type of each variable above?\n",
    "Use the `type()` function below:"
   ]
  },
  {
   "cell_type": "code",
   "execution_count": null,
   "id": "5de03e04",
   "metadata": {},
   "outputs": [],
   "source": [
    "print(type(x))\n",
    "print(type(y))\n",
    "print(type(z))\n",
    "print(type(b))"
   ]
  },
  {
   "cell_type": "markdown",
   "id": "c8a3be7d",
   "metadata": {},
   "source": [
    "### ⚖️ Comparison Operators\n",
    "Fill in the blanks:"
   ]
  },
  {
   "cell_type": "code",
   "execution_count": null,
   "id": "6832365f",
   "metadata": {},
   "outputs": [],
   "source": [
    "# True or False?\n",
    "print(x ___ y)\n",
    "print(z == 'hello')"
   ]
  },
  {
   "cell_type": "markdown",
   "id": "363c62fd",
   "metadata": {},
   "source": [
    "### ➗ Arithmetic Practice"
   ]
  },
  {
   "cell_type": "code",
   "execution_count": null,
   "id": "de5b1cd3",
   "metadata": {},
   "outputs": [],
   "source": [
    "a = 7\n",
    "b = 3\n",
    "print('Add:', a + b)\n",
    "print('Divide:', a / b)\n",
    "print('Modulus:', a % b)"
   ]
  },
  {
   "cell_type": "markdown",
   "id": "f3669e53",
   "metadata": {},
   "source": [
    "### 🧠 Logical Operators"
   ]
  },
  {
   "cell_type": "code",
   "execution_count": null,
   "id": "5f4d3b2d",
   "metadata": {},
   "outputs": [],
   "source": [
    "print(True and False)\n",
    "print(True or False)\n",
    "print(not False)"
   ]
  }
 ],
 "metadata": {},
 "nbformat": 4,
 "nbformat_minor": 5
}