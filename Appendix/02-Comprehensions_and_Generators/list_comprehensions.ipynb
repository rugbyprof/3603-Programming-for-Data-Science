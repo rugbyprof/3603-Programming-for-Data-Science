{
 "cells": [
  {
   "cell_type": "markdown",
   "id": "0a64d435",
   "metadata": {},
   "source": [
    "# 📘 List Comprehensions\n",
    "\n",
    "A compact way to create new lists from existing ones."
   ]
  },
  {
   "cell_type": "code",
   "execution_count": null,
   "id": "2615c4b0",
   "metadata": {},
   "outputs": [],
   "source": [
    "# Basic example\n",
    "nums = [1, 2, 3, 4]\n",
    "squares = [x**2 for x in nums]\n",
    "print(squares)"
   ]
  },
  {
   "cell_type": "code",
   "execution_count": null,
   "id": "d0b456be",
   "metadata": {},
   "outputs": [],
   "source": [
    "# With a condition (filtering)\n",
    "evens = [x for x in nums if x % 2 == 0]\n",
    "print(evens)"
   ]
  },
  {
   "cell_type": "markdown",
   "id": "3ab23745",
   "metadata": {},
   "source": [
    "### ✏️ Your Turn\n",
    "Create a list of the lengths of the following words, but only if the word is longer than 3 letters:"
   ]
  },
  {
   "cell_type": "code",
   "execution_count": null,
   "id": "f76f2eac",
   "metadata": {},
   "outputs": [],
   "source": [
    "words = ['dog', 'elephant', 'cat', 'zebra']\n",
    "# Your list comprehension here"
   ]
  }
 ],
 "metadata": {},
 "nbformat": 4,
 "nbformat_minor": 5
}