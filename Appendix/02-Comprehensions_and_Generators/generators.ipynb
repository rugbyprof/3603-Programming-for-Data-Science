{
 "cells": [
  {
   "cell_type": "markdown",
   "id": "ff0f1baa",
   "metadata": {},
   "source": [
    "# 📘 Generators\n",
    "\n",
    "Efficient ways to produce data one value at a time."
   ]
  },
  {
   "cell_type": "code",
   "execution_count": null,
   "id": "51dbc967",
   "metadata": {},
   "outputs": [],
   "source": [
    "# Generator using yield\n",
    "def countdown(n):\n",
    "    while n > 0:\n",
    "        yield n\n",
    "        n -= 1\n",
    "\n",
    "for num in countdown(5):\n",
    "    print(num)"
   ]
  },
  {
   "cell_type": "code",
   "execution_count": null,
   "id": "41e9d8f2",
   "metadata": {},
   "outputs": [],
   "source": [
    "# Generator expression\n",
    "squares = (x**2 for x in range(5))\n",
    "for val in squares:\n",
    "    print(val)"
   ]
  },
  {
   "cell_type": "markdown",
   "id": "800449e0",
   "metadata": {},
   "source": [
    "### ✏️ Your Turn\n",
    "Write a generator that yields the even numbers from 0 to 10."
   ]
  },
  {
   "cell_type": "code",
   "execution_count": null,
   "id": "bf93d512",
   "metadata": {},
   "outputs": [],
   "source": [
    "# Your generator function here"
   ]
  }
 ],
 "metadata": {},
 "nbformat": 4,
 "nbformat_minor": 5
}