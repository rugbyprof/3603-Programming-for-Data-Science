{
  "cells": [
    {
      "cell_type": "markdown",
      "id": "b7d0d3f3",
      "metadata": {
        "id": "b7d0d3f3"
      },
      "source": [
        "# 01: Intro to Python and Arithmetic\n",
        "Welcome to your first Python notebook! In this lesson, we'll cover basic arithmetic and variable usage."
      ]
    },
    {
      "cell_type": "markdown",
      "id": "60d47c02",
      "metadata": {
        "id": "60d47c02"
      },
      "source": [
        "## 🔢 Arithmetic Operations in Python\n",
        "Python can act as a calculator. Here are the basic operations:"
      ]
    },
    {
      "cell_type": "code",
      "execution_count": 1,
      "id": "32f9a2da",
      "metadata": {
        "id": "32f9a2da",
        "outputId": "05dbefdf-c0a0-477c-c0e2-e98018ca9f61",
        "colab": {
          "base_uri": "https://localhost:8080/"
        }
      },
      "outputs": [
        {
          "output_type": "execute_result",
          "data": {
            "text/plain": [
              "8"
            ]
          },
          "metadata": {},
          "execution_count": 1
        }
      ],
      "source": [
        "# Addition\n",
        "2 + 3\n",
        "\n",
        "# Subtraction\n",
        "7 - 4\n",
        "\n",
        "# Multiplication\n",
        "5 * 6\n",
        "\n",
        "# Division (always returns float)\n",
        "8 / 2\n",
        "\n",
        "# Integer Division\n",
        "9 // 2\n",
        "\n",
        "# Modulo (remainder)\n",
        "9 % 2\n",
        "\n",
        "# Exponentiation\n",
        "2 ** 3"
      ]
    },
    {
      "cell_type": "markdown",
      "id": "e6a0a7ca",
      "metadata": {
        "id": "e6a0a7ca"
      },
      "source": [
        "## 🧠 Try it Yourself:\n",
        "What do you think these will output?"
      ]
    },
    {
      "cell_type": "code",
      "execution_count": null,
      "id": "b504a776",
      "metadata": {
        "id": "b504a776"
      },
      "outputs": [],
      "source": [
        "# Predict the output before running\n",
        "10 / 4\n",
        "10 // 4\n",
        "10 % 4\n",
        "2 ** 4"
      ]
    },
    {
      "cell_type": "markdown",
      "id": "a266d7a5",
      "metadata": {
        "id": "a266d7a5"
      },
      "source": [
        "## 🧮 Variables and Expressions\n",
        "You can store results in variables:"
      ]
    },
    {
      "cell_type": "code",
      "execution_count": null,
      "id": "6052f8ec",
      "metadata": {
        "id": "6052f8ec"
      },
      "outputs": [],
      "source": [
        "a = 5\n",
        "b = 3\n",
        "c = a + b\n",
        "print(c)"
      ]
    },
    {
      "cell_type": "markdown",
      "id": "545c5535",
      "metadata": {
        "id": "545c5535"
      },
      "source": [
        "### 🧪 Exercise: Create your own variables"
      ]
    },
    {
      "cell_type": "code",
      "execution_count": null,
      "id": "92818dc4",
      "metadata": {
        "id": "92818dc4"
      },
      "outputs": [],
      "source": [
        "# Replace with your own numbers\n",
        "x = 12\n",
        "y = 7\n",
        "z = x * y - 10\n",
        "print(z)"
      ]
    },
    {
      "cell_type": "markdown",
      "id": "fae0a177",
      "metadata": {
        "id": "fae0a177"
      },
      "source": [
        "## 📝 Summary\n",
        "- Use `+`, `-`, `*`, `/`, `//`, `%`, `**`\n",
        "- Store values in variables using `=`\n",
        "- Use `print()` to display results"
      ]
    }
  ],
  "metadata": {
    "colab": {
      "provenance": []
    },
    "language_info": {
      "name": "python"
    },
    "kernelspec": {
      "name": "python3",
      "display_name": "Python 3"
    }
  },
  "nbformat": 4,
  "nbformat_minor": 5
}