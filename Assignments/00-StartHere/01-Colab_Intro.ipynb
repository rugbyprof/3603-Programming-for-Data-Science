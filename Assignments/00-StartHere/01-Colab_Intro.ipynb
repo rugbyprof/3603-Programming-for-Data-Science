{
 "cells": [
  {
   "cell_type": "markdown",
   "id": "7f412148",
   "metadata": {},
   "source": [
    "# 📘 01 - Colab Intro\n",
    "\n",
    "Welcome to your first notebook in Google Colab!"
   ]
  },
  {
   "cell_type": "markdown",
   "id": "216c53ab",
   "metadata": {},
   "source": [
    "## ✅ Learning Goals\n",
    "- Run cells in a notebook\n",
    "- Edit Markdown and code\n",
    "- Save a copy to your own Drive"
   ]
  },
  {
   "cell_type": "code",
   "execution_count": null,
   "id": "f7ca3562",
   "metadata": {},
   "outputs": [],
   "source": [
    "# 👋 Try running this cell!\n",
    "print('Hello, Data Science World!')"
   ]
  },
  {
   "cell_type": "markdown",
   "id": "31151db2",
   "metadata": {},
   "source": [
    "## ✏️ Your Turn\n",
    "Modify the code below to print your name."
   ]
  },
  {
   "cell_type": "code",
   "execution_count": null,
   "id": "aaf79c47",
   "metadata": {},
   "outputs": [],
   "source": [
    "print('Your name here')"
   ]
  },
  {
   "cell_type": "markdown",
   "id": "502b08e8",
   "metadata": {},
   "source": [
    "## 💾 Save a Copy\n",
    "- Go to **File > Save a copy in Colabs**.\n",
    "- Make sure it changed on your github repo. \n",
    "\n",
    "Move it to your `completed` folder."
   ]
  }
 ],
 "metadata": {
  "language_info": {
   "name": "python"
  }
 },
 "nbformat": 4,
 "nbformat_minor": 5
}
