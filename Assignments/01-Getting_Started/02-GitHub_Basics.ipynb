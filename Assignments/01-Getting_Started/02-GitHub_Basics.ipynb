{
 "cells": [
  {
   "cell_type": "markdown",
   "id": "9848d1f8",
   "metadata": {},
   "source": [
    "# 📘 02 - GitHub + Colab Workflow\n",
    "\n",
    "This notebook helps you get familiar with pushing your work to GitHub and opening it in Colab."
   ]
  },
  {
   "cell_type": "markdown",
   "id": "5ccfbf0c",
   "metadata": {},
   "source": [
    "## ✅ Learning Goals\n",
    "- Create and clone a GitHub repository\n",
    "- Upload and edit a notebook\n",
    "- Open GitHub-hosted notebooks in Colab"
   ]
  },
  {
   "cell_type": "markdown",
   "id": "ab7eb9bd",
   "metadata": {},
   "source": [
    "## 🔧 Step-by-Step GitHub Setup\n",
    "\n",
    "1. Go to [github.com](https://github.com)\n",
    "2. Create an account or log in\n",
    "3. Click **+ > New Repository**\n",
    "4. Name it something like `data-science-notebooks`\n",
    "5. Initialize with a README"
   ]
  },
  {
   "cell_type": "markdown",
   "id": "8fa12fba",
   "metadata": {},
   "source": [
    "## ⬆️ Upload a Notebook to GitHub\n",
    "1. Download or create a notebook file (like this one!)\n",
    "2. Go to your new repo\n",
    "3. Click **Add File > Upload Files**\n",
    "4. Commit your changes"
   ]
  },
  {
   "cell_type": "markdown",
   "id": "24ebee74",
   "metadata": {},
   "source": [
    "## ⚡ Open in Google Colab\n",
    "1. Visit: [colab.research.google.com/github](https://colab.research.google.com/github)\n",
    "2. Paste the GitHub URL of your uploaded notebook\n",
    "3. Click **Open**"
   ]
  },
  {
   "cell_type": "code",
   "execution_count": null,
   "id": "3ed34fe2",
   "metadata": {},
   "outputs": [],
   "source": [
    "# 🔁 Try It: Simple Cell\n",
    "print('Opened from GitHub into Colab!')"
   ]
  },
  {
   "cell_type": "markdown",
   "id": "1f14214b",
   "metadata": {},
   "source": [
    "## 📤 Submit\n",
    "Submit either:\n",
    "- GitHub repo link to this notebook\n",
    "- Colab share link (set to view-only)\n",
    "\n",
    "Make sure your name is in the notebook filename or in a markdown cell."
   ]
  }
 ],
 "metadata": {},
 "nbformat": 4,
 "nbformat_minor": 5
}